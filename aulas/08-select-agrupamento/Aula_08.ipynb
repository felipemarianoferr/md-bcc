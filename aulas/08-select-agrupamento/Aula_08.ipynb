{
 "cells": [
  {
   "cell_type": "markdown",
   "metadata": {},
   "source": [
    "# Mais sobre `SELECT`: agrupamentos"
   ]
  },
  {
   "cell_type": "markdown",
   "metadata": {},
   "source": [
    "## Introdução"
   ]
  },
  {
   "cell_type": "markdown",
   "metadata": {},
   "source": [
    "Vamos continuar nossa investigação sobre o comando `SELECT`. Desta vez usaremos a base de dados `'sakila'`, uma famosa base de dados de teste construída pelos autores do MySQL. \n",
    "\n",
    "Abra a URL [**https://dev.mysql.com/doc/sakila/en/**](https://dev.mysql.com/doc/sakila/en/) para conhecer melhor esta base de dados, que modela uma locadora de DVDs (riam, vocês também serão velhos um dia!).\n",
    "\n",
    "Se você não possui esta base, siga as instruções de instalação na página ou faça o download direto pelo link [**https://downloads.mysql.com/docs/sakila-db.zip**](https://downloads.mysql.com/docs/sakila-db.zip)\n",
    "\n",
    "Vamos também construir nosso objeto auxiliar para conectar com a base de dados, como fizemos na última aula."
   ]
  },
  {
   "cell_type": "code",
   "execution_count": 26,
   "metadata": {
    "tags": []
   },
   "outputs": [],
   "source": [
    "from functools import partial\n",
    "from dotenv import load_dotenv\n",
    "import insperautograder.jupyter as ia\n",
    "import mysql.connector\n",
    "import os\n",
    "\n",
    "load_dotenv(override=True)\n",
    "\n",
    "connection = mysql.connector.connect(\n",
    "    host=os.getenv(\"MD_DB_SERVER\"),\n",
    "    user=os.getenv(\"MD_DB_USERNAME\"),\n",
    "    password=os.getenv(\"MD_DB_PASSWORD\"),\n",
    "    port=int(os.getenv(\"MD_DB_PORT\", 3306)),\n",
    "    database=\"sakila\"\n",
    ")\n",
    "\n",
    "def run_db_query(connection, query, args=None):\n",
    "    with connection.cursor() as cursor:\n",
    "        print(\"Executando query:\")\n",
    "        for result in cursor.execute(query, multi=True):\n",
    "            if result.with_rows:\n",
    "                for row in result.fetchall():\n",
    "                    print(row)\n",
    "            else:\n",
    "                print(f\"{result.rowcount} linhas afetadas.\")\n",
    "\n",
    "db = partial(run_db_query, connection)"
   ]
  },
  {
   "cell_type": "markdown",
   "metadata": {},
   "source": [
    "## Exercícios para entrega\n",
    "\n",
    "Esta aula tem atividade para entrega, confira os prazos e exercícios"
   ]
  },
  {
   "cell_type": "code",
   "execution_count": 27,
   "metadata": {},
   "outputs": [
    {
     "data": {
      "text/markdown": [
       "|    | Atividade    | De                  | Até                 | Conta como ATV?   | % Nota Atraso   |\n",
       "|---:|:-------------|:--------------------|:--------------------|:------------------|:----------------|\n",
       "|  0 | newborn      | 2025-08-11 00:00:00 | 2025-11-30 00:00:00 | Não               | 0%              |\n",
       "|  1 | select01     | 2025-08-14 00:00:00 | 2025-08-22 23:59:59 | Sim               | 25%             |\n",
       "|  2 | ddl          | 2025-08-25 12:00:00 | 2025-08-31 23:59:59 | Sim               | 25%             |\n",
       "|  3 | dml          | 2025-08-28 16:30:00 | 2025-09-04 23:59:59 | Sim               | 25%             |\n",
       "|  4 | agg_join     | 2025-09-01 14:00:00 | 2025-09-07 23:59:59 | Sim               | 25%             |\n",
       "|  5 | group_having | 2025-09-04 16:30:00 | 2025-09-11 23:59:59 | Sim               | 25%             |\n",
       "|  6 | views        | 2025-09-08 07:30:00 | 2025-09-14 23:59:59 | Sim               | 25%             |"
      ],
      "text/plain": [
       "<IPython.core.display.Markdown object>"
      ]
     },
     "metadata": {},
     "output_type": "display_data"
    }
   ],
   "source": [
    "ia.tasks()"
   ]
  },
  {
   "cell_type": "code",
   "execution_count": 28,
   "metadata": {},
   "outputs": [
    {
     "data": {
      "text/markdown": [
       "|    | Atividade    | Exercício   |   Peso |   Nota |   Nota Sem Atraso |   Nota Com Atraso |\n",
       "|---:|:-------------|:------------|-------:|-------:|------------------:|------------------:|\n",
       "|  0 | group_having | ex01        |      1 |     10 |                10 |                 0 |\n",
       "|  1 | group_having | ex02        |      4 |     10 |                10 |                 0 |\n",
       "|  2 | group_having | ex03        |      4 |     10 |                10 |                 0 |\n",
       "|  3 | group_having | ex04        |      4 |     10 |                10 |                 0 |\n",
       "|  4 | group_having | ex05        |      4 |     10 |                10 |                 0 |\n",
       "|  5 | group_having | ex06        |      8 |     10 |                10 |                 0 |\n",
       "|  6 | group_having | ex07        |      6 |      0 |                 0 |                 0 |\n",
       "|  7 | group_having | ex08        |      6 |      0 |                 0 |                 0 |\n",
       "|  8 | group_having | ex09        |     12 |      0 |                 0 |                 0 |\n",
       "|  9 | group_having | ex10        |     10 |      0 |                 0 |                 0 |\n",
       "| 10 | group_having | ex11        |     10 |      0 |                 0 |                 0 |\n",
       "| 11 | group_having | ex12        |      6 |      0 |                 0 |                 0 |\n",
       "| 12 | group_having | ex13        |     12 |      0 |                 0 |                 0 |"
      ],
      "text/plain": [
       "<IPython.core.display.Markdown object>"
      ]
     },
     "metadata": {},
     "output_type": "display_data"
    }
   ],
   "source": [
    "ia.grades(task=\"group_having\")"
   ]
  },
  {
   "cell_type": "code",
   "execution_count": 29,
   "metadata": {},
   "outputs": [
    {
     "data": {
      "text/markdown": [
       "|    | Tarefa       |   Nota | Conta como ATV?   |\n",
       "|---:|:-------------|-------:|:------------------|\n",
       "|  0 | group_having |   2.87 | Sim               |"
      ],
      "text/plain": [
       "<IPython.core.display.Markdown object>"
      ]
     },
     "metadata": {},
     "output_type": "display_data"
    }
   ],
   "source": [
    "ia.grades(by=\"task\", task=\"group_having\")"
   ]
  },
  {
   "cell_type": "code",
   "execution_count": 30,
   "metadata": {},
   "outputs": [
    {
     "data": {
      "text/markdown": [
       "|    | Tarefa       |   Nota | Conta como ATV?   |\n",
       "|---:|:-------------|-------:|:------------------|\n",
       "|  0 | newborn      |  10    | Não               |\n",
       "|  1 | select01     |  10    | Sim               |\n",
       "|  2 | ddl          |  10    | Sim               |\n",
       "|  3 | dml          |  10    | Sim               |\n",
       "|  4 | agg_join     |  10    | Sim               |\n",
       "|  5 | group_having |   2.87 | Sim               |\n",
       "|  6 | views        |   0    | Sim               |"
      ],
      "text/plain": [
       "<IPython.core.display.Markdown object>"
      ]
     },
     "metadata": {},
     "output_type": "display_data"
    }
   ],
   "source": [
    "# Nota em todas ATVs\n",
    "ia.grades(by=\"task\")"
   ]
  },
  {
   "cell_type": "code",
   "execution_count": 31,
   "metadata": {},
   "outputs": [
    {
     "data": {
      "text/markdown": [
       "|    |   Média de ATV |\n",
       "|---:|---------------:|\n",
       "|  0 |             10 |"
      ],
      "text/plain": [
       "<IPython.core.display.Markdown object>"
      ]
     },
     "metadata": {},
     "output_type": "display_data"
    }
   ],
   "source": [
    "# Média de ATV, dividindo por n-2\n",
    "ia.average(excluded_count=2)"
   ]
  },
  {
   "cell_type": "markdown",
   "metadata": {},
   "source": [
    "## Aquecimento"
   ]
  },
  {
   "cell_type": "markdown",
   "metadata": {},
   "source": [
    "**Exercício 1**: Quais os nomes das categorias de filme? Ordene de forma crescente."
   ]
  },
  {
   "cell_type": "code",
   "execution_count": 32,
   "metadata": {},
   "outputs": [
    {
     "name": "stdout",
     "output_type": "stream",
     "text": [
      "Executando query:\n",
      "('Action',)\n",
      "('Animation',)\n",
      "('Children',)\n",
      "('Classics',)\n",
      "('Comedy',)\n",
      "('Documentary',)\n",
      "('Drama',)\n",
      "('Family',)\n",
      "('Foreign',)\n",
      "('Games',)\n",
      "('Horror',)\n",
      "('Music',)\n",
      "('New',)\n",
      "('Sci-Fi',)\n",
      "('Sports',)\n",
      "('Travel',)\n"
     ]
    }
   ],
   "source": [
    "sql_ex01 = \"\"\"\n",
    "SELECT\n",
    "    name\n",
    "FROM\n",
    "    category\n",
    "ORDER BY\n",
    "    name ASC\n",
    "\"\"\"\n",
    "\n",
    "db(sql_ex01)"
   ]
  },
  {
   "cell_type": "code",
   "execution_count": 33,
   "metadata": {},
   "outputs": [
    {
     "data": {
      "application/vnd.jupyter.widget-view+json": {
       "model_id": "b3d14ae82e254edd854e7d665c0b8064",
       "version_major": 2,
       "version_minor": 0
      },
      "text/plain": [
       "interactive(children=(Button(description='Enviar ex01', style=ButtonStyle()), Output()), _dom_classes=('widget…"
      ]
     },
     "metadata": {},
     "output_type": "display_data"
    }
   ],
   "source": [
    "ia.sender(answer=\"sql_ex01\", task=\"group_having\", question=\"ex01\", answer_type=\"pyvar\")"
   ]
  },
  {
   "cell_type": "markdown",
   "metadata": {},
   "source": [
    "**Exercício 2**: Quais atores tem as iniciais \"J.D.\"? Exiba todos os atributos. Ordene de forma crescente pelo primeiro nome."
   ]
  },
  {
   "cell_type": "code",
   "execution_count": 34,
   "metadata": {},
   "outputs": [
    {
     "name": "stdout",
     "output_type": "stream",
     "text": [
      "Executando query:\n",
      "(4, 'JENNIFER', 'DAVIS', datetime.datetime(2006, 2, 15, 4, 34, 33))\n",
      "(41, 'JODIE', 'DEGENERES', datetime.datetime(2006, 2, 15, 4, 34, 33))\n",
      "(35, 'JUDY', 'DEAN', datetime.datetime(2006, 2, 15, 4, 34, 33))\n",
      "(123, 'JULIANNE', 'DENCH', datetime.datetime(2006, 2, 15, 4, 34, 33))\n"
     ]
    }
   ],
   "source": [
    "sql_ex02 = \"\"\"\n",
    "SELECT\n",
    "    *\n",
    "FROM\n",
    "    actor\n",
    "WHERE\n",
    "    first_name LIKE 'J%' AND last_name LIKE 'D%'\n",
    "ORDER BY\n",
    "    first_name ASC\n",
    "\"\"\"\n",
    "\n",
    "db(sql_ex02)"
   ]
  },
  {
   "cell_type": "code",
   "execution_count": 35,
   "metadata": {},
   "outputs": [
    {
     "data": {
      "application/vnd.jupyter.widget-view+json": {
       "model_id": "1eed8e00a38d4d26a8eac672cd02ee77",
       "version_major": 2,
       "version_minor": 0
      },
      "text/plain": [
       "interactive(children=(Button(description='Enviar ex02', style=ButtonStyle()), Output()), _dom_classes=('widget…"
      ]
     },
     "metadata": {},
     "output_type": "display_data"
    }
   ],
   "source": [
    "ia.sender(answer=\"sql_ex02\", task=\"group_having\", question=\"ex02\", answer_type=\"pyvar\")"
   ]
  },
  {
   "cell_type": "markdown",
   "metadata": {},
   "source": [
    "**Exercício 3**: Liste as cidades brasileiras presentes na base de dados. Ordene de forma decrescente."
   ]
  },
  {
   "cell_type": "code",
   "execution_count": 36,
   "metadata": {},
   "outputs": [
    {
     "name": "stdout",
     "output_type": "stream",
     "text": [
      "Executando query:\n",
      "('Vitória de Santo Antão',)\n",
      "('Vila Velha',)\n",
      "('Sorocaba',)\n",
      "('São Leopoldo',)\n",
      "('São Bernardo do Campo',)\n",
      "('Santo André',)\n",
      "('Santa Bárbara d´Oeste',)\n",
      "('Rio Claro',)\n",
      "('Poços de Caldas',)\n",
      "('Poá',)\n",
      "('Maringá',)\n",
      "('Luziânia',)\n",
      "('Juiz de Fora',)\n",
      "('Juazeiro do Norte',)\n",
      "('Ibirité',)\n",
      "('Guarujá',)\n",
      "('Goiânia',)\n",
      "('Brasília',)\n",
      "('Boa Vista',)\n",
      "('Blumenau',)\n",
      "('Belém',)\n",
      "('Bagé',)\n",
      "('Araçatuba',)\n",
      "('Aparecida de Goiânia',)\n",
      "('Angra dos Reis',)\n",
      "('Anápolis',)\n",
      "('Alvorada',)\n",
      "('Águas Lindas de Goiás',)\n"
     ]
    }
   ],
   "source": [
    "sql_ex03 = \"\"\"\n",
    "SELECT\n",
    "    city\n",
    "FROM\n",
    "    city\n",
    "    INNER JOIN country ON city.country_id = country.country_id\n",
    "WHERE\n",
    "    country.country = 'Brazil'\n",
    "ORDER BY\n",
    "    city DESC\n",
    "\"\"\"\n",
    "\n",
    "db(sql_ex03)"
   ]
  },
  {
   "cell_type": "code",
   "execution_count": 37,
   "metadata": {},
   "outputs": [
    {
     "data": {
      "application/vnd.jupyter.widget-view+json": {
       "model_id": "962a78c0bc284a45aab226dc230334d8",
       "version_major": 2,
       "version_minor": 0
      },
      "text/plain": [
       "interactive(children=(Button(description='Enviar ex03', style=ButtonStyle()), Output()), _dom_classes=('widget…"
      ]
     },
     "metadata": {},
     "output_type": "display_data"
    }
   ],
   "source": [
    "ia.sender(answer=\"sql_ex03\", task=\"group_having\", question=\"ex03\", answer_type=\"pyvar\")"
   ]
  },
  {
   "cell_type": "markdown",
   "metadata": {},
   "source": [
    "**Exercício 4**: *Quantas* cidades brasileiras tem na base de dados? Renomeie para `qt_city`"
   ]
  },
  {
   "cell_type": "code",
   "execution_count": 38,
   "metadata": {},
   "outputs": [
    {
     "name": "stdout",
     "output_type": "stream",
     "text": [
      "Executando query:\n",
      "(28,)\n"
     ]
    }
   ],
   "source": [
    "sql_ex04 = \"\"\"\n",
    "SELECT\n",
    "    COUNT(city) AS qt_city\n",
    "FROM\n",
    "    city\n",
    "    INNER JOIN country ON city.country_id = country.country_id\n",
    "WHERE\n",
    "    country.country = 'Brazil'\n",
    "ORDER BY\n",
    "    city DESC\n",
    "\"\"\"\n",
    "\n",
    "db(sql_ex04)"
   ]
  },
  {
   "cell_type": "code",
   "execution_count": 39,
   "metadata": {},
   "outputs": [
    {
     "data": {
      "application/vnd.jupyter.widget-view+json": {
       "model_id": "b17120313c4a437ca6cbe46a0783ab2e",
       "version_major": 2,
       "version_minor": 0
      },
      "text/plain": [
       "interactive(children=(Button(description='Enviar ex04', style=ButtonStyle()), Output()), _dom_classes=('widget…"
      ]
     },
     "metadata": {},
     "output_type": "display_data"
    }
   ],
   "source": [
    "ia.sender(answer=\"sql_ex04\", task=\"group_having\", question=\"ex04\", answer_type=\"pyvar\")"
   ]
  },
  {
   "cell_type": "markdown",
   "metadata": {},
   "source": [
    "**Exercício 5**: Liste os filmes do ator (fictício) \"Dan Harris\". Ordene de forma crescente. Renomeie para `movie_title`."
   ]
  },
  {
   "cell_type": "code",
   "execution_count": 40,
   "metadata": {},
   "outputs": [
    {
     "name": "stdout",
     "output_type": "stream",
     "text": [
      "Executando query:\n",
      "('BEDAZZLED MARRIED',)\n",
      "('BOONDOCK BALLROOM',)\n",
      "('DESTINY SATURDAY',)\n",
      "('DIVINE RESURRECTION',)\n",
      "('EYES DRIVING',)\n",
      "('FELLOWSHIP AUTUMN',)\n",
      "('GHOST GROUNDHOG',)\n",
      "('GROOVE FICTION',)\n",
      "('HILLS NEIGHBORS',)\n",
      "('HOLIDAY GAMES',)\n",
      "('INDEPENDENCE HOTEL',)\n",
      "('INSIDER ARIZONA',)\n",
      "('JADE BUNCH',)\n",
      "('LIES TREATMENT',)\n",
      "('MONTEREY LABYRINTH',)\n",
      "('REUNION WITCHES',)\n",
      "('RUN PACIFIC',)\n",
      "('SCHOOL JACKET',)\n",
      "('SEVEN SWARM',)\n",
      "('SIEGE MADRE',)\n",
      "('STEERS ARMAGEDDON',)\n",
      "('STRAIGHT HOURS',)\n",
      "('SUMMER SCARFACE',)\n",
      "('SUPERFLY TRIP',)\n",
      "('TITANIC BOONDOCK',)\n",
      "('TITANS JERK',)\n",
      "('VANISHING ROCKY',)\n",
      "('WATERSHIP FRONTIER',)\n"
     ]
    }
   ],
   "source": [
    "sql_ex05 = \"\"\"\n",
    "SELECT\n",
    "    title AS movie_title\n",
    "FROM\n",
    "    film\n",
    "    INNER JOIN film_actor ON film.film_id = film_actor.film_id\n",
    "    INNER JOIN actor ON film_actor.actor_id = actor.actor_id\n",
    "WHERE\n",
    "    first_name = 'Dan' AND last_name = 'Harris'\n",
    "ORDER BY\n",
    "    movie_title ASC\n",
    "\"\"\"\n",
    "\n",
    "db(sql_ex05)"
   ]
  },
  {
   "cell_type": "code",
   "execution_count": 41,
   "metadata": {},
   "outputs": [
    {
     "data": {
      "application/vnd.jupyter.widget-view+json": {
       "model_id": "11f2527e7e0342368f0f31388e651369",
       "version_major": 2,
       "version_minor": 0
      },
      "text/plain": [
       "interactive(children=(Button(description='Enviar ex05', style=ButtonStyle()), Output()), _dom_classes=('widget…"
      ]
     },
     "metadata": {},
     "output_type": "display_data"
    }
   ],
   "source": [
    "ia.sender(answer=\"sql_ex05\", task=\"group_having\", question=\"ex05\", answer_type=\"pyvar\")"
   ]
  },
  {
   "cell_type": "markdown",
   "metadata": {},
   "source": [
    "**Exercício 6**: Quais filmes estão alugados por Florence Woods?\n",
    "\n",
    "Retorne:\n",
    "- O primeiro nome\n",
    "- O sobrenome\n",
    "- O id do cliente\n",
    "- O título do filme\n",
    "\n",
    "Ordene pelo:\n",
    "- Título do filme, decrescente"
   ]
  },
  {
   "cell_type": "code",
   "execution_count": 42,
   "metadata": {},
   "outputs": [
    {
     "name": "stdout",
     "output_type": "stream",
     "text": [
      "Executando query:\n",
      "('FLORENCE', 'WOODS', 107, 'CLUB GRAFFITI')\n",
      "('FLORENCE', 'WOODS', 107, 'BLADE POLISH')\n"
     ]
    }
   ],
   "source": [
    "sql_ex06 = \"\"\"\n",
    "SELECT\n",
    "    first_name, last_name, customer.customer_id, title\n",
    "FROM\n",
    "    customer\n",
    "    INNER JOIN rental ON customer.customer_id = rental.customer_id\n",
    "    INNER JOIN inventory ON rental.inventory_id = inventory.inventory_id\n",
    "    INNER JOIN film ON inventory.film_id = film.film_id\n",
    "WHERE\n",
    "    customer.first_name = 'Florence' AND customer.last_name = 'Woods' AND rental.return_date IS NULL\n",
    "ORDER BY\n",
    "    title DESC\n",
    "\"\"\"\n",
    "\n",
    "db(sql_ex06)"
   ]
  },
  {
   "cell_type": "code",
   "execution_count": 43,
   "metadata": {},
   "outputs": [
    {
     "data": {
      "application/vnd.jupyter.widget-view+json": {
       "model_id": "6774aa8bba0d4677a340fde98a959465",
       "version_major": 2,
       "version_minor": 0
      },
      "text/plain": [
       "interactive(children=(Button(description='Enviar ex06', style=ButtonStyle()), Output()), _dom_classes=('widget…"
      ]
     },
     "metadata": {},
     "output_type": "display_data"
    }
   ],
   "source": [
    "ia.sender(answer=\"sql_ex06\", task=\"group_having\", question=\"ex06\", answer_type=\"pyvar\")"
   ]
  },
  {
   "cell_type": "markdown",
   "metadata": {},
   "source": [
    "**Exercício 7**: Para quais línguas não tem nenhum filme na locadora? Ordene de forma crescente.\n",
    "\n",
    "**Dica**: use `LEFT OUTER JOIN`"
   ]
  },
  {
   "cell_type": "code",
   "execution_count": 44,
   "metadata": {},
   "outputs": [
    {
     "name": "stdout",
     "output_type": "stream",
     "text": [
      "Executando query:\n",
      "('French',)\n",
      "('German',)\n",
      "('Italian',)\n",
      "('Japanese',)\n",
      "('Mandarin',)\n"
     ]
    }
   ],
   "source": [
    "sql_ex07 = \"\"\"\n",
    "SELECT\n",
    "    name\n",
    "FROM\n",
    "    language\n",
    "    LEFT OUTER JOIN film ON language.language_id = film.language_id\n",
    "WHERE\n",
    "    film.title IS NULL\n",
    "ORDER BY\n",
    "    name ASC\n",
    "\"\"\"\n",
    "\n",
    "db(sql_ex07)"
   ]
  },
  {
   "cell_type": "code",
   "execution_count": 45,
   "metadata": {},
   "outputs": [
    {
     "data": {
      "application/vnd.jupyter.widget-view+json": {
       "model_id": "9fc7dbe6432146c687122f9b02b0ba31",
       "version_major": 2,
       "version_minor": 0
      },
      "text/plain": [
       "interactive(children=(Button(description='Enviar ex07', style=ButtonStyle()), Output()), _dom_classes=('widget…"
      ]
     },
     "metadata": {},
     "output_type": "display_data"
    }
   ],
   "source": [
    "ia.sender(answer=\"sql_ex07\", task=\"group_having\", question=\"ex07\", answer_type=\"pyvar\")"
   ]
  },
  {
   "cell_type": "markdown",
   "metadata": {},
   "source": [
    "## `DISTINCT`"
   ]
  },
  {
   "cell_type": "markdown",
   "metadata": {},
   "source": [
    "As vezes desejamos consultar quais os valores distintos de uma coluna. Para isso usamos o qualificador `DISTINCT`. \n",
    "\n",
    "Por exemplo: Quais os anos de lançamento dos filmes da base? "
   ]
  },
  {
   "cell_type": "code",
   "execution_count": 46,
   "metadata": {
    "scrolled": true
   },
   "outputs": [
    {
     "name": "stdout",
     "output_type": "stream",
     "text": [
      "Executando query:\n",
      "(2006,)\n",
      "(2006,)\n",
      "(2006,)\n",
      "(2006,)\n",
      "(2006,)\n",
      "(2006,)\n",
      "(2006,)\n",
      "(2006,)\n",
      "(2006,)\n",
      "(2006,)\n",
      "(2006,)\n",
      "(2006,)\n",
      "(2006,)\n",
      "(2006,)\n",
      "(2006,)\n",
      "(2006,)\n",
      "(2006,)\n",
      "(2006,)\n",
      "(2006,)\n",
      "(2006,)\n"
     ]
    }
   ],
   "source": [
    "# Vai aparecer muitas cópias de \"(2006,)\"\n",
    "db(\"SELECT release_year FROM film LIMIT 20\")"
   ]
  },
  {
   "cell_type": "markdown",
   "metadata": {},
   "source": [
    "Ops, parece que não tem muita variedade nesta base! Usando `DISTINCT` podemos limpar esse resultado:"
   ]
  },
  {
   "cell_type": "code",
   "execution_count": 47,
   "metadata": {},
   "outputs": [
    {
     "name": "stdout",
     "output_type": "stream",
     "text": [
      "Executando query:\n",
      "(2006,)\n"
     ]
    }
   ],
   "source": [
    "db(\"SELECT DISTINCT release_year FROM film\")"
   ]
  },
  {
   "cell_type": "markdown",
   "metadata": {},
   "source": [
    "### Praticando"
   ]
  },
  {
   "cell_type": "markdown",
   "metadata": {},
   "source": [
    "**Exercício 8**: Quais clientes estão alugando um DVD agora? Ordene pelo nome e sobrenome. Retorne o id, nome e sobrenome do cliente."
   ]
  },
  {
   "cell_type": "code",
   "execution_count": 56,
   "metadata": {},
   "outputs": [
    {
     "name": "stdout",
     "output_type": "stream",
     "text": [
      "Executando query:\n",
      "(525, 'ADRIAN', 'CLARY')\n",
      "(352, 'ALBERT', 'CROUSE')\n",
      "(568, 'ALBERTO', 'HENNING')\n",
      "(152, 'ALICIA', 'MILLS')\n",
      "(548, 'ALLAN', 'CORNISH')\n",
      "(412, 'ALLEN', 'BUTTERFIELD')\n",
      "(228, 'ALLISON', 'STANLEY')\n",
      "(181, 'ANA', 'BRADLEY')\n",
      "(582, 'ANDY', 'VANHORN')\n",
      "(29, 'ANGELA', 'HERNANDEZ')\n",
      "(33, 'ANNA', 'HILL')\n",
      "(175, 'ANNETTE', 'OLSON')\n",
      "(142, 'APRIL', 'BURNS')\n",
      "(438, 'BARRY', 'LOVELACE')\n",
      "(287, 'BECKY', 'MILES')\n",
      "(440, 'BERNARD', 'COLBY')\n",
      "(199, 'BETH', 'FRANKLIN')\n",
      "(14, 'BETTY', 'WHITE')\n",
      "(73, 'BEVERLY', 'BROOKS')\n",
      "(457, 'BILL', 'GAVIN')\n",
      "(366, 'BRANDON', 'HUEY')\n",
      "(493, 'BRENT', 'HARKINS')\n",
      "(111, 'CARMEN', 'OWENS')\n",
      "(42, 'CAROLYN', 'PEREZ')\n",
      "(269, 'CASSANDRA', 'WALTERS')\n",
      "(163, 'CATHY', 'SPENCER')\n",
      "(512, 'CECIL', 'VINES')\n",
      "(495, 'CHARLIE', 'BESS')\n",
      "(394, 'CHRIS', 'BROTHERS')\n",
      "(534, 'CHRISTIAN', 'JUNG')\n",
      "(43, 'CHRISTINE', 'ROBERTS')\n",
      "(234, 'CLAUDIA', 'FULLER')\n",
      "(537, 'CLINTON', 'BUFORD')\n",
      "(227, 'COLLEEN', 'BURTON')\n",
      "(527, 'CORY', 'MEEHAN')\n",
      "(245, 'COURTNEY', 'DAY')\n",
      "(388, 'CRAIG', 'MORRELL')\n",
      "(410, 'CURTIS', 'IRBY')\n",
      "(28, 'CYNTHIA', 'YOUNG')\n",
      "(295, 'DAISY', 'BATES')\n",
      "(530, 'DARRYL', 'ASHCRAFT')\n",
      "(579, 'DARYL', 'LARUE')\n",
      "(476, 'DERRICK', 'BOURQUE')\n",
      "(279, 'DIANNE', 'SHELTON')\n",
      "(474, 'DUSTIN', 'GILLETTE')\n",
      "(554, 'DWAYNE', 'OLVERA')\n",
      "(317, 'EDWARD', 'BAUGH')\n",
      "(5, 'ELIZABETH', 'BROWN')\n",
      "(516, 'ELMER', 'NOE')\n",
      "(99, 'EMILY', 'DIAZ')\n",
      "(596, 'ENRIQUE', 'FORSYTHE')\n",
      "(557, 'FELIX', 'GAFFNEY')\n",
      "(107, 'FLORENCE', 'WOODS')\n",
      "(369, 'FRED', 'WHEAT')\n",
      "(597, 'FREDDIE', 'DUGGAN')\n",
      "(155, 'GAIL', 'KNIGHT')\n",
      "(324, 'GARY', 'COY')\n",
      "(497, 'GILBERT', 'SLEDGE')\n",
      "(213, 'GINA', 'WILLIAMSON')\n",
      "(56, 'GLORIA', 'COOK')\n",
      "(114, 'GRACE', 'ELLIS')\n",
      "(472, 'GREG', 'ROBINS')\n",
      "(335, 'GREGORY', 'MAULDIN')\n",
      "(550, 'GUY', 'BROWNLEE')\n",
      "(264, 'GWENDOLYN', 'MAY')\n",
      "(53, 'HEATHER', 'MORRIS')\n",
      "(15, 'HELEN', 'HARRIS')\n",
      "(263, 'HILDA', 'HOPKINS')\n",
      "(186, 'HOLLY', 'FOX')\n",
      "(561, 'IAN', 'STILL')\n",
      "(570, 'IVAN', 'CROMWELL')\n",
      "(450, 'JAY', 'ROBB')\n",
      "(58, 'JEAN', 'BELL')\n",
      "(191, 'JEANETTE', 'GREENE')\n",
      "(200, 'JEANNE', 'LAWSON')\n",
      "(282, 'JENNY', 'CASTRO')\n",
      "(374, 'JEREMY', 'HURTADO')\n",
      "(337, 'JERRY', 'JORDON')\n",
      "(215, 'JESSIE', 'BANKS')\n",
      "(533, 'JESSIE', 'MILAM')\n",
      "(349, 'JOE', 'GILLILAND')\n",
      "(431, 'JOEL', 'FRANCISCO')\n",
      "(300, 'JOHN', 'FARNSWORTH')\n",
      "(560, 'JORDAN', 'ARCHULETA')\n",
      "(336, 'JOSHUA', 'MARK')\n",
      "(135, 'JUANITA', 'MASON')\n",
      "(64, 'JUDITH', 'COX')\n",
      "(69, 'JUDY', 'GRAY')\n",
      "(52, 'JULIE', 'SANCHEZ')\n",
      "(354, 'JUSTIN', 'NGO')\n",
      "(193, 'KATIE', 'ELLIOTT')\n",
      "(315, 'KENNETH', 'GOODEN')\n",
      "(214, 'KRISTIN', 'JOHNSTON')\n",
      "(424, 'KYLE', 'SPURLOCK')\n",
      "(327, 'LARRY', 'THRASHER')\n",
      "(22, 'LAURA', 'RODRIGUEZ')\n",
      "(162, 'LAUREN', 'HUDSON')\n",
      "(192, 'LAURIE', 'LAWRENCE')\n",
      "(361, 'LAWRENCE', 'LAWTON')\n",
      "(421, 'LEE', 'HAWKS')\n",
      "(405, 'LEONARD', 'SCHOFIELD')\n",
      "(11, 'LISA', 'ANDERSON')\n",
      "(91, 'LOIS', 'BUTLER')\n",
      "(373, 'LOUIS', 'LEONE')\n",
      "(83, 'LOUISE', 'JENKINS')\n",
      "(208, 'LUCY', 'WHEELER')\n",
      "(236, 'MARCIA', 'DEAN')\n",
      "(9, 'MARGARET', 'MOORE')\n",
      "(267, 'MARGIE', 'WADE')\n",
      "(44, 'MARIE', 'TURNER')\n",
      "(80, 'MARILYN', 'ROSS')\n",
      "(441, 'MARIO', 'CHEATHAM')\n",
      "(178, 'MARION', 'SNYDER')\n",
      "(252, 'MATTIE', 'HOFFMAN')\n",
      "(188, 'MELANIE', 'ARMSTRONG')\n",
      "(422, 'MELVIN', 'ELLINGTON')\n",
      "(21, 'MICHELLE', 'CLARK')\n",
      "(448, 'MIGUEL', 'BETANCOURT')\n",
      "(60, 'MILDRED', 'BAILEY')\n",
      "(508, 'MILTON', 'HOWLAND')\n",
      "(576, 'MORRIS', 'MCCARTER')\n",
      "(274, 'NAOMI', 'JENNINGS')\n",
      "(216, 'NATALIE', 'MEYER')\n",
      "(532, 'NEIL', 'RENNER')\n",
      "(94, 'NORMA', 'GONZALES')\n",
      "(411, 'NORMAN', 'CURRIER')\n",
      "(101, 'PEGGY', 'MYERS')\n",
      "(585, 'PERRY', 'SWAFFORD')\n",
      "(505, 'RAFAEL', 'ABNEY')\n",
      "(296, 'RAMONA', 'HALE')\n",
      "(334, 'RAYMOND', 'MCWHORTER')\n",
      "(168, 'REGINA', 'BERRY')\n",
      "(100, 'ROBIN', 'HAYES')\n",
      "(521, 'ROLAND', 'SOUTH')\n",
      "(23, 'SARAH', 'LEWIS')\n",
      "(330, 'SCOTT', 'SHELLEY')\n",
      "(587, 'SERGIO', 'STANFIELD')\n",
      "(590, 'SETH', 'HANNON')\n",
      "(284, 'SONIA', 'GREGORY')\n",
      "(211, 'STACEY', 'MONTGOMERY')\n",
      "(180, 'STACY', 'CUNNINGHAM')\n",
      "(41, 'STEPHANIE', 'MITCHELL')\n",
      "(120, 'SYLVIA', 'ORTIZ')\n",
      "(229, 'TAMARA', 'NGUYEN')\n",
      "(75, 'TAMMY', 'SANDERS')\n",
      "(592, 'TERRANCE', 'ROUSH')\n",
      "(355, 'TERRY', 'GRISSOM')\n",
      "(452, 'TOM', 'MILNER')\n",
      "(108, 'TRACY', 'COLE')\n",
      "(417, 'TRAVIS', 'ESTEP')\n",
      "(496, 'TYLER', 'WREN')\n",
      "(251, 'VICKIE', 'BREWER')\n",
      "(244, 'VIOLA', 'HANSON')\n",
      "(87, 'WANDA', 'PATTERSON')\n",
      "(115, 'WENDY', 'HARRISON')\n",
      "(219, 'WILLIE', 'HOWELL')\n",
      "(359, 'WILLIE', 'MARKHAM')\n",
      "(190, 'YOLANDA', 'WEAVER')\n",
      "(479, 'ZACHARY', 'HITE')\n"
     ]
    }
   ],
   "source": [
    "sql_ex08 = \"\"\"\n",
    "SELECT DISTINCT\n",
    "    customer.customer_id, first_name, last_name\n",
    "FROM\n",
    "    customer\n",
    "    INNER JOIN rental ON customer.customer_id = rental.customer_id\n",
    "WHERE\n",
    "    rental.return_date IS NULL\n",
    "ORDER BY\n",
    "    first_name, last_name ASC\n",
    "\"\"\"\n",
    "\n",
    "db(sql_ex08)"
   ]
  },
  {
   "cell_type": "code",
   "execution_count": 57,
   "metadata": {},
   "outputs": [
    {
     "data": {
      "application/vnd.jupyter.widget-view+json": {
       "model_id": "abf6e9f0aa32404f9d91b58f2f11c80c",
       "version_major": 2,
       "version_minor": 0
      },
      "text/plain": [
       "interactive(children=(Button(description='Enviar ex08', style=ButtonStyle()), Output()), _dom_classes=('widget…"
      ]
     },
     "metadata": {},
     "output_type": "display_data"
    }
   ],
   "source": [
    "ia.sender(answer=\"sql_ex08\", task=\"group_having\", question=\"ex08\", answer_type=\"pyvar\")"
   ]
  },
  {
   "cell_type": "markdown",
   "metadata": {},
   "source": [
    "## Agrupamento"
   ]
  },
  {
   "cell_type": "markdown",
   "metadata": {},
   "source": [
    "Uma das características mais valiosas de banco de dados é o *agrupamento*. Podemos agrupar os resultados de uma query indicando uma coluna cujos valores serão usados para agrupar os dados.\n",
    "\n",
    "Por exemplo, considere a seguinte tabela, que chamaremos de `vendas`:\n",
    "\n",
    "| id | id_item | item | preco |\n",
    "|--|--|--|--|\n",
    "| 1 | 1 | A | 5 |\n",
    "| 2 | 2 | B | 6 |\n",
    "| 3 | 1 | A | 3 |\n",
    "| 4 | 3 | C | 7 |\n",
    "| 5 | 3 | C | 5 |\n",
    "| 6 | 1 | A | 2 |\n",
    "\n",
    "Se agruparmos pela coluna `id_item` teremos 3 conjuntos de resultados:\n",
    "\n",
    "id_item = 1:\n",
    "\n",
    "| id | id_item | item | preco |\n",
    "|--|--|--|--|\n",
    "| 1 | 1 | A | 5 |\n",
    "| 3 | 1 | A | 3 |\n",
    "| 6 | 1 | A | 2 |\n",
    "\n",
    "id_item = 2:\n",
    "\n",
    "| id | id_item | item | preco |\n",
    "|--|--|--|--|\n",
    "| 2 | 2 | B | 6 |\n",
    "\n",
    "id_item = 3:\n",
    "\n",
    "| id | id_item | item | preco |\n",
    "|--|--|--|--|\n",
    "| 4 | 3 | C | 7 |\n",
    "| 5 | 3 | C | 5 |\n",
    "\n",
    "É como se tivessemos uma lista de tabelas! Isso não é permitido em SQL. Temos que **resumir** a informação de cada uma das tabelas a uma linha só, o que significa que, para cada coluna, devemos escolher uma dessas opções:\n",
    "- Resumir a informação da coluna usando uma **função de grupo**. Podemos somar, tirar a média, contar itens, concatená-los em uma única string, entre outras;\n",
    "- Para colunas que se relacionam 1 para 1 com a coluna de agrupamento (como a coluna de agrupamento em si, ou a coluna `item` neste exemplo), manter este valor. Isso acontece frequentemente quando fazemos `JOIN`.\n",
    "- Não incluir a coluna, caso contrário.\n",
    "\n",
    "Neste exemplo, podemos tomar a seguinte decisão para cada coluna:\n",
    "- `id`: descartar\n",
    "- `id_item`: manter valor\n",
    "- `item`: manter valor\n",
    "- `preco`: vamos calcular a soma dos valores, e renomear esta informação para `total`\n",
    "\n",
    "Com isso, obtemos a seguinte tabela:\n",
    "\n",
    "| id_item | item | total |\n",
    "|--|--|--|\n",
    "| 1 | A | 10 |\n",
    "| 2 | B | 6 |\n",
    "| 3 | C | 12 |\n",
    "\n",
    "Por fim, se não queremos id_item, ficamos com a seguinte tabela:\n",
    "\n",
    "| item | total |\n",
    "|--|--|\n",
    "| A | 10 |\n",
    "| B | 6 |\n",
    "| C | 12 |\n",
    "\n",
    "Para obter essa tabela podemos usar o seguinte comando SQL:\n",
    "\n",
    "```SQL\n",
    "SELECT \n",
    "    item, SUM(preco) as total \n",
    "FROM \n",
    "    vendas\n",
    "GROUP BY\n",
    "    id_item\n",
    "```\n",
    "\n",
    "Consulte o capítulo 9 do seu livro texto para conhecer mais sobre agrupamentos."
   ]
  },
  {
   "cell_type": "markdown",
   "metadata": {},
   "source": [
    "### Praticando"
   ]
  },
  {
   "cell_type": "markdown",
   "metadata": {},
   "source": [
    "**Exercício 9**: Quais os 10 atores que mais apareceram em filmes?\n",
    "\n",
    "Retorne o id, nome, sobrenome e a quantidade de filmes que o ator atua (nomeie esta coluna como `film_count`).\n",
    "\n",
    "Ordene de forma descrescente pela quantidade, crescente pelo primeiro nome e crescente pelo segundo nome."
   ]
  },
  {
   "cell_type": "code",
   "execution_count": 58,
   "metadata": {},
   "outputs": [
    {
     "name": "stdout",
     "output_type": "stream",
     "text": [
      "Executando query:\n",
      "(107, 'GINA', 'DEGENERES', 42)\n",
      "(102, 'WALTER', 'TORN', 41)\n",
      "(198, 'MARY', 'KEITEL', 40)\n",
      "(181, 'MATTHEW', 'CARREY', 39)\n",
      "(23, 'SANDRA', 'KILMER', 37)\n",
      "(81, 'SCARLETT', 'DAMON', 36)\n",
      "(144, 'ANGELA', 'WITHERSPOON', 35)\n",
      "(106, 'GROUCHO', 'DUNST', 35)\n",
      "(60, 'HENRY', 'BERRY', 35)\n",
      "(13, 'UMA', 'WOOD', 35)\n"
     ]
    }
   ],
   "source": [
    "sql_ex09 = \"\"\"\n",
    "SELECT\n",
    "    actor.actor_id, actor.first_name, actor.last_name, COUNT(film_actor.film_id) AS film_count\n",
    "FROM\n",
    "    actor\n",
    "    INNER JOIN film_actor ON actor.actor_id = film_actor.actor_id\n",
    "GROUP BY\n",
    "    actor.actor_id\n",
    "ORDER BY\n",
    "    film_count DESC, actor.first_name ASC, actor.last_name ASC\n",
    "LIMIT 10\n",
    "\"\"\"\n",
    "\n",
    "db(sql_ex09)"
   ]
  },
  {
   "cell_type": "code",
   "execution_count": 59,
   "metadata": {},
   "outputs": [
    {
     "data": {
      "application/vnd.jupyter.widget-view+json": {
       "model_id": "cb85fc40d6cc4b40878cf89d291abf87",
       "version_major": 2,
       "version_minor": 0
      },
      "text/plain": [
       "interactive(children=(Button(description='Enviar ex09', style=ButtonStyle()), Output()), _dom_classes=('widget…"
      ]
     },
     "metadata": {},
     "output_type": "display_data"
    }
   ],
   "source": [
    "ia.sender(answer=\"sql_ex09\", task=\"group_having\", question=\"ex09\", answer_type=\"pyvar\")"
   ]
  },
  {
   "cell_type": "markdown",
   "metadata": {},
   "source": [
    "## Pipeline do comando `SELECT`"
   ]
  },
  {
   "cell_type": "markdown",
   "metadata": {},
   "source": [
    "Uma versão mais completa do `SELECT` (mas não inteiramente completa - consulte o manual do MySQL) é vista abaixo:\n",
    "\n",
    "```\n",
    "SELECT [DISTINCT] <select_header> \n",
    "FROM <source_tables>\n",
    "WHERE <filter_expression>\n",
    "GROUP BY <grouping_expressions>\n",
    "HAVING <filter_expression>\n",
    "ORDER BY <ordering_expressions>\n",
    "LIMIT <count> \n",
    "OFFSET <count>\n",
    "```\n",
    "\n",
    "Você já deve ter percebido que o comando `SELECT` tem uma sequência própria de avaliação. Por exemplo, para saber quais filmes custam mais que 3 dinheiros, podemos escrever:"
   ]
  },
  {
   "cell_type": "code",
   "execution_count": 52,
   "metadata": {},
   "outputs": [
    {
     "name": "stdout",
     "output_type": "stream",
     "text": [
      "Executando query:\n",
      "(336,)\n"
     ]
    }
   ],
   "source": [
    "db(\"\"\"\n",
    "SELECT\n",
    "    COUNT(f.rental_rate)\n",
    "FROM\n",
    "    film f\n",
    "WHERE\n",
    "    f.rental_rate > 3\n",
    "\"\"\")"
   ]
  },
  {
   "cell_type": "markdown",
   "metadata": {},
   "source": [
    "Observe que o 'apelido' f para a tabela 'film' é definido na cláusula `FROM`, mas usado em `SELECT` e também em `WHERE`.\n",
    "\n",
    "A ordem de execução do comando `SELECT` é aproximadamente como segue:\n",
    "\n",
    "1. `FROM <source_tables>`: indica as tabelas que serão usadas nesta query e, conceitualmente, combina estas tabelas através de *produto cartesiano* em uma grande tabela. (Note o termo \"*conceitualmente*\" que usei: em termos de implementação da query este produto cartesiano raramente é construído.)\n",
    "\n",
    "2. `WHERE <filter_expression>`: filtra linhas.\n",
    "\n",
    "3. `GROUP BY <grouping_expressions>`: agrupa conjuntos de linhas.\n",
    "\n",
    "4. `SELECT <select_heading>`: escolha de colunas e de agregados.\n",
    "\n",
    "5. `HAVING <filter_expression>`: outra filtragem, esta aplicada apenas **depois** da agregação. Pode usar resultados do processo de agregação. Obriga o uso de `GROUP BY`.\n",
    "\n",
    "6. `DISTINCT`: Elimina linhas duplicadas.\n",
    "\n",
    "7. `ORDER BY`: ordena as linhas do resultado.\n",
    "\n",
    "8. `OFFSET <count>`: Pula linhas do resultado. Requer LIMIT.\n",
    "\n",
    "9. `LIMIT <count>`: Mantém apenas um número máximo de linhas.\n",
    "\n",
    "Esta sequencia também serve como dica de como projetar uma query! \n",
    "- Comece identificando as tabelas que você deseja usar\n",
    "- Monte o filtro de linhas, incluindo critérios de `JOIN`\n",
    "- Agrupe\n",
    "- Selecione colunas e aplique funções de agregação, conforme necessário\n",
    "- Filtre com `HAVING`, agora que temos agregação\n",
    "- O resto é mais fácil, aplique conforme requerido"
   ]
  },
  {
   "cell_type": "markdown",
   "metadata": {},
   "source": [
    "## `WHERE` versus `HAVING`"
   ]
  },
  {
   "cell_type": "markdown",
   "metadata": {},
   "source": [
    "Conforme visto acima, temos a cláusula `HAVING` para fazer filtragens *APÓS* agregação.\n",
    "\n",
    "**Para que serve isso?** Por exemplo, suponha que queremos saber quais categorias de filme possuem a letra `a` em seu nome **E** menos que sessenta filmes cadastrados na base.\n",
    "\n",
    "**A seguinte query irá falhar! Continue a leitura do *handout***"
   ]
  },
  {
   "cell_type": "code",
   "execution_count": 53,
   "metadata": {
    "scrolled": true
   },
   "outputs": [
    {
     "name": "stdout",
     "output_type": "stream",
     "text": [
      "Executando query:\n"
     ]
    },
    {
     "ename": "DatabaseError",
     "evalue": "1111 (HY000): Invalid use of group function",
     "output_type": "error",
     "traceback": [
      "\u001b[1;31m---------------------------------------------------------------------------\u001b[0m",
      "\u001b[1;31mMySQLInterfaceError\u001b[0m                       Traceback (most recent call last)",
      "File \u001b[1;32mc:\\Users\\felip\\miniconda3\\envs\\megadados\\lib\\site-packages\\mysql\\connector\\connection_cext.py:661\u001b[0m, in \u001b[0;36mCMySQLConnection.cmd_query\u001b[1;34m(self, query, raw, buffered, raw_as_string)\u001b[0m\n\u001b[0;32m    660\u001b[0m         query \u001b[38;5;241m=\u001b[39m query\u001b[38;5;241m.\u001b[39mencode(\u001b[38;5;124m\"\u001b[39m\u001b[38;5;124mutf-8\u001b[39m\u001b[38;5;124m\"\u001b[39m)\n\u001b[1;32m--> 661\u001b[0m     \u001b[38;5;28;43mself\u001b[39;49m\u001b[38;5;241;43m.\u001b[39;49m\u001b[43m_cmysql\u001b[49m\u001b[38;5;241;43m.\u001b[39;49m\u001b[43mquery\u001b[49m\u001b[43m(\u001b[49m\n\u001b[0;32m    662\u001b[0m \u001b[43m        \u001b[49m\u001b[43mquery\u001b[49m\u001b[43m,\u001b[49m\n\u001b[0;32m    663\u001b[0m \u001b[43m        \u001b[49m\u001b[43mraw\u001b[49m\u001b[38;5;241;43m=\u001b[39;49m\u001b[43mraw\u001b[49m\u001b[43m,\u001b[49m\n\u001b[0;32m    664\u001b[0m \u001b[43m        \u001b[49m\u001b[43mbuffered\u001b[49m\u001b[38;5;241;43m=\u001b[39;49m\u001b[43mbuffered\u001b[49m\u001b[43m,\u001b[49m\n\u001b[0;32m    665\u001b[0m \u001b[43m        \u001b[49m\u001b[43mraw_as_string\u001b[49m\u001b[38;5;241;43m=\u001b[39;49m\u001b[43mraw_as_string\u001b[49m\u001b[43m,\u001b[49m\n\u001b[0;32m    666\u001b[0m \u001b[43m        \u001b[49m\u001b[43mquery_attrs\u001b[49m\u001b[38;5;241;43m=\u001b[39;49m\u001b[38;5;28;43mself\u001b[39;49m\u001b[38;5;241;43m.\u001b[39;49m\u001b[43mquery_attrs\u001b[49m\u001b[43m,\u001b[49m\n\u001b[0;32m    667\u001b[0m \u001b[43m    \u001b[49m\u001b[43m)\u001b[49m\n\u001b[0;32m    668\u001b[0m \u001b[38;5;28;01mexcept\u001b[39;00m MySQLInterfaceError \u001b[38;5;28;01mas\u001b[39;00m err:\n",
      "\u001b[1;31mMySQLInterfaceError\u001b[0m: Invalid use of group function",
      "\nThe above exception was the direct cause of the following exception:\n",
      "\u001b[1;31mDatabaseError\u001b[0m                             Traceback (most recent call last)",
      "Cell \u001b[1;32mIn[53], line 1\u001b[0m\n\u001b[1;32m----> 1\u001b[0m \u001b[43mdb\u001b[49m\u001b[43m(\u001b[49m\u001b[38;5;124;43m\"\"\"\u001b[39;49m\n\u001b[0;32m      2\u001b[0m \u001b[38;5;124;43mSELECT \u001b[39;49m\n\u001b[0;32m      3\u001b[0m \u001b[38;5;124;43m    ca.category_id,\u001b[39;49m\n\u001b[0;32m      4\u001b[0m \u001b[38;5;124;43m    ca.name,\u001b[39;49m\n\u001b[0;32m      5\u001b[0m \u001b[38;5;124;43m    COUNT(f.film_id) AS film_count\u001b[39;49m\n\u001b[0;32m      6\u001b[0m \u001b[38;5;124;43mFROM\u001b[39;49m\n\u001b[0;32m      7\u001b[0m \u001b[38;5;124;43m    category ca\u001b[39;49m\n\u001b[0;32m      8\u001b[0m \u001b[38;5;124;43m    INNER JOIN film_category fc USING(category_id)\u001b[39;49m\n\u001b[0;32m      9\u001b[0m \u001b[38;5;124;43m    INNER JOIN film f USING(film_id)\u001b[39;49m\n\u001b[0;32m     10\u001b[0m \u001b[38;5;124;43mWHERE\u001b[39;49m\n\u001b[0;32m     11\u001b[0m \u001b[38;5;124;43m    lower(ca.name) LIKE \u001b[39;49m\u001b[38;5;124;43m'\u001b[39;49m\u001b[38;5;132;43;01m%a\u001b[39;49;00m\u001b[38;5;124;43m%\u001b[39;49m\u001b[38;5;124;43m'\u001b[39;49m\u001b[38;5;124;43m AND\u001b[39;49m\n\u001b[0;32m     12\u001b[0m \u001b[38;5;124;43mCOUNT(f.film_id) < 60 -- FALHA AQUI!!!!!!!!!!!!!!!!!!!!\u001b[39;49m\n\u001b[0;32m     13\u001b[0m \u001b[38;5;124;43mGROUP BY\u001b[39;49m\n\u001b[0;32m     14\u001b[0m \u001b[38;5;124;43m    ca.category_id\u001b[39;49m\n\u001b[0;32m     15\u001b[0m \u001b[38;5;124;43mORDER BY\u001b[39;49m\n\u001b[0;32m     16\u001b[0m \u001b[38;5;124;43m    film_count DESC\u001b[39;49m\n\u001b[0;32m     17\u001b[0m \u001b[38;5;124;43m\"\"\"\u001b[39;49m\u001b[43m)\u001b[49m\n",
      "Cell \u001b[1;32mIn[26], line 20\u001b[0m, in \u001b[0;36mrun_db_query\u001b[1;34m(connection, query, args)\u001b[0m\n\u001b[0;32m     18\u001b[0m \u001b[38;5;28;01mwith\u001b[39;00m connection\u001b[38;5;241m.\u001b[39mcursor() \u001b[38;5;28;01mas\u001b[39;00m cursor:\n\u001b[0;32m     19\u001b[0m     \u001b[38;5;28mprint\u001b[39m(\u001b[38;5;124m\"\u001b[39m\u001b[38;5;124mExecutando query:\u001b[39m\u001b[38;5;124m\"\u001b[39m)\n\u001b[1;32m---> 20\u001b[0m     \u001b[38;5;28;01mfor\u001b[39;00m result \u001b[38;5;129;01min\u001b[39;00m \u001b[43mcursor\u001b[49m\u001b[38;5;241;43m.\u001b[39;49m\u001b[43mexecute\u001b[49m\u001b[43m(\u001b[49m\u001b[43mquery\u001b[49m\u001b[43m,\u001b[49m\u001b[43m \u001b[49m\u001b[43mmulti\u001b[49m\u001b[38;5;241;43m=\u001b[39;49m\u001b[38;5;28;43;01mTrue\u001b[39;49;00m\u001b[43m)\u001b[49m:\n\u001b[0;32m     21\u001b[0m         \u001b[38;5;28;01mif\u001b[39;00m result\u001b[38;5;241m.\u001b[39mwith_rows:\n\u001b[0;32m     22\u001b[0m             \u001b[38;5;28;01mfor\u001b[39;00m row \u001b[38;5;129;01min\u001b[39;00m result\u001b[38;5;241m.\u001b[39mfetchall():\n",
      "File \u001b[1;32mc:\\Users\\felip\\miniconda3\\envs\\megadados\\lib\\site-packages\\mysql\\connector\\cursor_cext.py:374\u001b[0m, in \u001b[0;36mCMySQLCursor.execute\u001b[1;34m(self, operation, params, multi)\u001b[0m\n\u001b[0;32m    369\u001b[0m             \u001b[38;5;28;01mraise\u001b[39;00m ProgrammingError(\n\u001b[0;32m    370\u001b[0m                 \u001b[38;5;124m\"\u001b[39m\u001b[38;5;124mNot all parameters were used in the SQL statement\u001b[39m\u001b[38;5;124m\"\u001b[39m\n\u001b[0;32m    371\u001b[0m             )\n\u001b[0;32m    373\u001b[0m \u001b[38;5;28;01mtry\u001b[39;00m:\n\u001b[1;32m--> 374\u001b[0m     result \u001b[38;5;241m=\u001b[39m \u001b[38;5;28;43mself\u001b[39;49m\u001b[38;5;241;43m.\u001b[39;49m\u001b[43m_cnx\u001b[49m\u001b[38;5;241;43m.\u001b[39;49m\u001b[43mcmd_query\u001b[49m\u001b[43m(\u001b[49m\n\u001b[0;32m    375\u001b[0m \u001b[43m        \u001b[49m\u001b[43mstmt\u001b[49m\u001b[43m,\u001b[49m\n\u001b[0;32m    376\u001b[0m \u001b[43m        \u001b[49m\u001b[43mraw\u001b[49m\u001b[38;5;241;43m=\u001b[39;49m\u001b[38;5;28;43mself\u001b[39;49m\u001b[38;5;241;43m.\u001b[39;49m\u001b[43m_raw\u001b[49m\u001b[43m,\u001b[49m\n\u001b[0;32m    377\u001b[0m \u001b[43m        \u001b[49m\u001b[43mbuffered\u001b[49m\u001b[38;5;241;43m=\u001b[39;49m\u001b[38;5;28;43mself\u001b[39;49m\u001b[38;5;241;43m.\u001b[39;49m\u001b[43m_buffered\u001b[49m\u001b[43m,\u001b[49m\n\u001b[0;32m    378\u001b[0m \u001b[43m        \u001b[49m\u001b[43mraw_as_string\u001b[49m\u001b[38;5;241;43m=\u001b[39;49m\u001b[38;5;28;43mself\u001b[39;49m\u001b[38;5;241;43m.\u001b[39;49m\u001b[43m_raw_as_string\u001b[49m\u001b[43m,\u001b[49m\n\u001b[0;32m    379\u001b[0m \u001b[43m    \u001b[49m\u001b[43m)\u001b[49m\n\u001b[0;32m    380\u001b[0m \u001b[38;5;28;01mexcept\u001b[39;00m MySQLInterfaceError \u001b[38;5;28;01mas\u001b[39;00m err:\n\u001b[0;32m    381\u001b[0m     \u001b[38;5;28;01mraise\u001b[39;00m get_mysql_exception(\n\u001b[0;32m    382\u001b[0m         msg\u001b[38;5;241m=\u001b[39merr\u001b[38;5;241m.\u001b[39mmsg, errno\u001b[38;5;241m=\u001b[39merr\u001b[38;5;241m.\u001b[39merrno, sqlstate\u001b[38;5;241m=\u001b[39merr\u001b[38;5;241m.\u001b[39msqlstate\n\u001b[0;32m    383\u001b[0m     ) \u001b[38;5;28;01mfrom\u001b[39;00m\u001b[38;5;250m \u001b[39m\u001b[38;5;21;01merr\u001b[39;00m\n",
      "File \u001b[1;32mc:\\Users\\felip\\miniconda3\\envs\\megadados\\lib\\site-packages\\mysql\\connector\\opentelemetry\\context_propagation.py:74\u001b[0m, in \u001b[0;36mwith_context_propagation.<locals>.wrapper\u001b[1;34m(cnx, *args, **kwargs)\u001b[0m\n\u001b[0;32m     72\u001b[0m \u001b[38;5;250m\u001b[39m\u001b[38;5;124;03m\"\"\"Context propagation decorator.\"\"\"\u001b[39;00m\n\u001b[0;32m     73\u001b[0m \u001b[38;5;28;01mif\u001b[39;00m \u001b[38;5;129;01mnot\u001b[39;00m OTEL_ENABLED \u001b[38;5;129;01mor\u001b[39;00m \u001b[38;5;129;01mnot\u001b[39;00m cnx\u001b[38;5;241m.\u001b[39motel_context_propagation:\n\u001b[1;32m---> 74\u001b[0m     \u001b[38;5;28;01mreturn\u001b[39;00m method(cnx, \u001b[38;5;241m*\u001b[39margs, \u001b[38;5;241m*\u001b[39m\u001b[38;5;241m*\u001b[39mkwargs)\n\u001b[0;32m     76\u001b[0m current_span \u001b[38;5;241m=\u001b[39m trace\u001b[38;5;241m.\u001b[39mget_current_span()\n\u001b[0;32m     77\u001b[0m tp_header \u001b[38;5;241m=\u001b[39m \u001b[38;5;28;01mNone\u001b[39;00m\n",
      "File \u001b[1;32mc:\\Users\\felip\\miniconda3\\envs\\megadados\\lib\\site-packages\\mysql\\connector\\connection_cext.py:669\u001b[0m, in \u001b[0;36mCMySQLConnection.cmd_query\u001b[1;34m(self, query, raw, buffered, raw_as_string)\u001b[0m\n\u001b[0;32m    661\u001b[0m     \u001b[38;5;28mself\u001b[39m\u001b[38;5;241m.\u001b[39m_cmysql\u001b[38;5;241m.\u001b[39mquery(\n\u001b[0;32m    662\u001b[0m         query,\n\u001b[0;32m    663\u001b[0m         raw\u001b[38;5;241m=\u001b[39mraw,\n\u001b[1;32m   (...)\u001b[0m\n\u001b[0;32m    666\u001b[0m         query_attrs\u001b[38;5;241m=\u001b[39m\u001b[38;5;28mself\u001b[39m\u001b[38;5;241m.\u001b[39mquery_attrs,\n\u001b[0;32m    667\u001b[0m     )\n\u001b[0;32m    668\u001b[0m \u001b[38;5;28;01mexcept\u001b[39;00m MySQLInterfaceError \u001b[38;5;28;01mas\u001b[39;00m err:\n\u001b[1;32m--> 669\u001b[0m     \u001b[38;5;28;01mraise\u001b[39;00m get_mysql_exception(\n\u001b[0;32m    670\u001b[0m         err\u001b[38;5;241m.\u001b[39merrno, msg\u001b[38;5;241m=\u001b[39merr\u001b[38;5;241m.\u001b[39mmsg, sqlstate\u001b[38;5;241m=\u001b[39merr\u001b[38;5;241m.\u001b[39msqlstate\n\u001b[0;32m    671\u001b[0m     ) \u001b[38;5;28;01mfrom\u001b[39;00m\u001b[38;5;250m \u001b[39m\u001b[38;5;21;01merr\u001b[39;00m\n\u001b[0;32m    672\u001b[0m \u001b[38;5;28;01mexcept\u001b[39;00m \u001b[38;5;167;01mAttributeError\u001b[39;00m \u001b[38;5;28;01mas\u001b[39;00m err:\n\u001b[0;32m    673\u001b[0m     addr \u001b[38;5;241m=\u001b[39m (\n\u001b[0;32m    674\u001b[0m         \u001b[38;5;28mself\u001b[39m\u001b[38;5;241m.\u001b[39m_unix_socket \u001b[38;5;28;01mif\u001b[39;00m \u001b[38;5;28mself\u001b[39m\u001b[38;5;241m.\u001b[39m_unix_socket \u001b[38;5;28;01melse\u001b[39;00m \u001b[38;5;124mf\u001b[39m\u001b[38;5;124m\"\u001b[39m\u001b[38;5;132;01m{\u001b[39;00m\u001b[38;5;28mself\u001b[39m\u001b[38;5;241m.\u001b[39m_host\u001b[38;5;132;01m}\u001b[39;00m\u001b[38;5;124m:\u001b[39m\u001b[38;5;132;01m{\u001b[39;00m\u001b[38;5;28mself\u001b[39m\u001b[38;5;241m.\u001b[39m_port\u001b[38;5;132;01m}\u001b[39;00m\u001b[38;5;124m\"\u001b[39m\n\u001b[0;32m    675\u001b[0m     )\n",
      "\u001b[1;31mDatabaseError\u001b[0m: 1111 (HY000): Invalid use of group function"
     ]
    }
   ],
   "source": [
    "db(\"\"\"\n",
    "SELECT \n",
    "    ca.category_id,\n",
    "    ca.name,\n",
    "    COUNT(f.film_id) AS film_count\n",
    "FROM\n",
    "    category ca\n",
    "    INNER JOIN film_category fc USING(category_id)\n",
    "    INNER JOIN film f USING(film_id)\n",
    "WHERE\n",
    "    lower(ca.name) LIKE '%a%' AND\n",
    "COUNT(f.film_id) < 60 -- FALHA AQUI!!!!!!!!!!!!!!!!!!!!\n",
    "GROUP BY\n",
    "    ca.category_id\n",
    "ORDER BY\n",
    "    film_count DESC\n",
    "\"\"\")"
   ]
  },
  {
   "cell_type": "markdown",
   "metadata": {},
   "source": [
    "A query falha porque a função de agregação `COUNT` necessita que as linhas já tenham sido selecionadas / filtradas. Então, ao tentar utilizar no `WHERE` uma função que depende das linhas filtradas pelo `WHERE`, criamos uma situação de conflito!\n",
    "\n",
    "Para solucionar, iremos utilizar `HAVING`:"
   ]
  },
  {
   "cell_type": "code",
   "execution_count": 60,
   "metadata": {},
   "outputs": [
    {
     "name": "stdout",
     "output_type": "stream",
     "text": [
      "Executando query:\n",
      "(4, 'Classics', 57)\n",
      "(16, 'Travel', 57)\n"
     ]
    }
   ],
   "source": [
    "db(\"\"\"\n",
    "SELECT \n",
    "    ca.category_id,\n",
    "    ca.name,\n",
    "    COUNT(f.film_id) AS film_count\n",
    "FROM\n",
    "    category ca\n",
    "    INNER JOIN film_category fc USING(category_id)\n",
    "    INNER JOIN film f USING(film_id)\n",
    "WHERE\n",
    "    lower(ca.name) LIKE '%a%'\n",
    "GROUP BY\n",
    "    ca.category_id\n",
    "HAVING\n",
    "    film_count < 60\n",
    "ORDER BY\n",
    "    film_count DESC\n",
    "\"\"\")"
   ]
  },
  {
   "cell_type": "markdown",
   "metadata": {},
   "source": [
    "## Praticando"
   ]
  },
  {
   "cell_type": "markdown",
   "metadata": {},
   "source": [
    "**Exercício 10**: Liste a duração média dos filmes na categoria 'Drama'. Renomeie o atributo retornado para `duracao_media_drama`."
   ]
  },
  {
   "cell_type": "code",
   "execution_count": 64,
   "metadata": {},
   "outputs": [
    {
     "name": "stdout",
     "output_type": "stream",
     "text": [
      "Executando query:\n",
      "(Decimal('120.8387'),)\n"
     ]
    }
   ],
   "source": [
    "sql_ex10 = \"\"\"\n",
    "SELECT\n",
    "    AVG(f.length) AS duracao_media_drama\n",
    "FROM\n",
    "    film f\n",
    "    INNER JOIN film_category fc ON f.film_id = fc.film_id\n",
    "    INNER JOIN category c ON fc.category_id = c.category_id\n",
    "WHERE\n",
    "    c.name = 'Drama'\n",
    "\"\"\"\n",
    "\n",
    "db(sql_ex10)"
   ]
  },
  {
   "cell_type": "code",
   "execution_count": 65,
   "metadata": {},
   "outputs": [
    {
     "data": {
      "application/vnd.jupyter.widget-view+json": {
       "model_id": "ba49a0c55bf14c43abccc415cd535a7e",
       "version_major": 2,
       "version_minor": 0
      },
      "text/plain": [
       "interactive(children=(Button(description='Enviar ex10', style=ButtonStyle()), Output()), _dom_classes=('widget…"
      ]
     },
     "metadata": {},
     "output_type": "display_data"
    }
   ],
   "source": [
    "ia.sender(answer=\"sql_ex10\", task=\"group_having\", question=\"ex10\", answer_type=\"pyvar\")"
   ]
  },
  {
   "cell_type": "markdown",
   "metadata": {},
   "source": [
    "**Exercício 11**: Liste o nome da categoria e a duração média dos filmes por categoria. Renomeie o atributo de média para `avg_len`. Ordene de forma decrescente por `avg_len`."
   ]
  },
  {
   "cell_type": "code",
   "execution_count": 67,
   "metadata": {},
   "outputs": [
    {
     "name": "stdout",
     "output_type": "stream",
     "text": [
      "Executando query:\n",
      "('Sports', Decimal('128.2027'))\n",
      "('Games', Decimal('127.8361'))\n",
      "('Foreign', Decimal('121.6986'))\n",
      "('Drama', Decimal('120.8387'))\n",
      "('Comedy', Decimal('115.8276'))\n",
      "('Family', Decimal('114.7826'))\n",
      "('Music', Decimal('113.6471'))\n",
      "('Travel', Decimal('113.3158'))\n",
      "('Horror', Decimal('112.4821'))\n",
      "('Classics', Decimal('111.6667'))\n",
      "('Action', Decimal('111.6094'))\n",
      "('New', Decimal('111.1270'))\n",
      "('Animation', Decimal('111.0152'))\n",
      "('Children', Decimal('109.8000'))\n",
      "('Documentary', Decimal('108.7500'))\n",
      "('Sci-Fi', Decimal('108.1967'))\n"
     ]
    }
   ],
   "source": [
    "sql_ex11 = \"\"\"\n",
    "SELECT\n",
    "    c.name, AVG(f.length) AS avg_len\n",
    "FROM\n",
    "    category c\n",
    "    INNER JOIN film_category fc ON c.category_id = fc.category_id\n",
    "    INNER JOIN film f ON fc.film_id = f.film_id\n",
    "GROUP BY\n",
    "    c.name\n",
    "ORDER BY\n",
    "    avg_len DESC\n",
    "\"\"\"\n",
    "\n",
    "db(sql_ex11)"
   ]
  },
  {
   "cell_type": "code",
   "execution_count": 68,
   "metadata": {},
   "outputs": [
    {
     "data": {
      "application/vnd.jupyter.widget-view+json": {
       "model_id": "167104ecfc3d4ebe93c2c9571dbf0802",
       "version_major": 2,
       "version_minor": 0
      },
      "text/plain": [
       "interactive(children=(Button(description='Enviar ex11', style=ButtonStyle()), Output()), _dom_classes=('widget…"
      ]
     },
     "metadata": {},
     "output_type": "display_data"
    }
   ],
   "source": [
    "ia.sender(answer=\"sql_ex11\", task=\"group_having\", question=\"ex11\", answer_type=\"pyvar\")"
   ]
  },
  {
   "cell_type": "markdown",
   "metadata": {},
   "source": [
    "**Exercício 12**: Liste o nome da categoria e a duração média dos filmes por categoria, apenas para categorias cuja duração média de filme excede 120 minutos. Renomeie o atributo de média para `avg_len`. Ordene de forma decrescente por `avg_len`."
   ]
  },
  {
   "cell_type": "code",
   "execution_count": 71,
   "metadata": {},
   "outputs": [
    {
     "name": "stdout",
     "output_type": "stream",
     "text": [
      "Executando query:\n",
      "('Sports', Decimal('128.2027'))\n",
      "('Games', Decimal('127.8361'))\n",
      "('Foreign', Decimal('121.6986'))\n",
      "('Drama', Decimal('120.8387'))\n"
     ]
    }
   ],
   "source": [
    "sql_ex12 = \"\"\"\n",
    "SELECT\n",
    "    c.name, AVG(f.length) AS avg_len\n",
    "FROM\n",
    "    category c\n",
    "    INNER JOIN film_category fc ON c.category_id = fc.category_id\n",
    "    INNER JOIN film f ON fc.film_id = f.film_id\n",
    "GROUP BY\n",
    "    c.name\n",
    "HAVING\n",
    "    avg_len > 120\n",
    "ORDER BY\n",
    "    avg_len DESC\n",
    "\"\"\"\n",
    "\n",
    "db(sql_ex12)"
   ]
  },
  {
   "cell_type": "code",
   "execution_count": 72,
   "metadata": {},
   "outputs": [
    {
     "data": {
      "application/vnd.jupyter.widget-view+json": {
       "model_id": "02456da2831d40bb9502b0d7ebb551c2",
       "version_major": 2,
       "version_minor": 0
      },
      "text/plain": [
       "interactive(children=(Button(description='Enviar ex12', style=ButtonStyle()), Output()), _dom_classes=('widget…"
      ]
     },
     "metadata": {},
     "output_type": "display_data"
    }
   ],
   "source": [
    "ia.sender(answer=\"sql_ex12\", task=\"group_having\", question=\"ex12\", answer_type=\"pyvar\")"
   ]
  },
  {
   "cell_type": "markdown",
   "metadata": {},
   "source": [
    "**Exercício 13**: Quais atores participaram de 35 a 40 filmes (intervalo fechado)?\n",
    "\n",
    "Retorne:\n",
    "\n",
    "- Nome\n",
    "- Sobrenome\n",
    "- Quantidade de filmes\n",
    "\n",
    "Ordene por:\n",
    "- Quantidade de filmes (Decrescente)\n",
    "- Se houver empate na quantidade de filmes, ordene de forma crescente pelo nome e sobrenome."
   ]
  },
  {
   "cell_type": "code",
   "execution_count": 75,
   "metadata": {},
   "outputs": [
    {
     "name": "stdout",
     "output_type": "stream",
     "text": [
      "Executando query:\n",
      "('MARY', 'KEITEL', 40)\n",
      "('MATTHEW', 'CARREY', 39)\n",
      "('SANDRA', 'KILMER', 37)\n",
      "('SCARLETT', 'DAMON', 36)\n",
      "('ANGELA', 'WITHERSPOON', 35)\n",
      "('GROUCHO', 'DUNST', 35)\n",
      "('HENRY', 'BERRY', 35)\n",
      "('UMA', 'WOOD', 35)\n",
      "('VAL', 'BOLGER', 35)\n",
      "('VIVIEN', 'BASINGER', 35)\n"
     ]
    }
   ],
   "source": [
    "sql_ex13 = \"\"\"\n",
    "SELECT\n",
    "    a.first_name, a.last_name, COUNT(fa.film_id) AS film_count\n",
    "FROM\n",
    "    actor a\n",
    "    INNER JOIN film_actor fa ON a.actor_id = fa.actor_id\n",
    "GROUP BY\n",
    "    a.actor_id\n",
    "HAVING\n",
    "    COUNT(fa.film_id) >= 35 AND COUNT(fa.film_id) <= 40\n",
    "ORDER BY\n",
    "    COUNT(fa.film_id) DESC, a.first_name ASC, a.last_name ASC\n",
    "\"\"\"\n",
    "\n",
    "db(sql_ex13)"
   ]
  },
  {
   "cell_type": "code",
   "execution_count": 74,
   "metadata": {},
   "outputs": [
    {
     "data": {
      "application/vnd.jupyter.widget-view+json": {
       "model_id": "d126682c0bca4a2e8eb184308d7896f1",
       "version_major": 2,
       "version_minor": 0
      },
      "text/plain": [
       "interactive(children=(Button(description='Enviar ex13', style=ButtonStyle()), Output()), _dom_classes=('widget…"
      ]
     },
     "metadata": {},
     "output_type": "display_data"
    }
   ],
   "source": [
    "ia.sender(answer=\"sql_ex13\", task=\"group_having\", question=\"ex13\", answer_type=\"pyvar\")"
   ]
  },
  {
   "cell_type": "markdown",
   "metadata": {},
   "source": [
    "# Conclusão"
   ]
  },
  {
   "cell_type": "markdown",
   "metadata": {},
   "source": [
    "Esta aula de hoje foi bastante densa! Dicas de estudo:\n",
    "\n",
    "- Pratique no seu livro-texto, capítulo 9. Lembre-se que a base 'música' pode ser usada para praticar os comandos SQL vistos no livro.\n",
    "- Tente criar queries que sirvam de exemplo para os conceitos do livro! A tarefa de criar exemplos é muito instrutiva!\n",
    "\n",
    "**Leitura prévia**:\n",
    "Para a próxima aula vamos continuar praticando, com os assuntos dos capítulos 10 e 11, prepare-se para a aula, ok?\n",
    "\n",
    "Até a próxima!"
   ]
  },
  {
   "cell_type": "code",
   "execution_count": 76,
   "metadata": {},
   "outputs": [],
   "source": [
    "connection.close()"
   ]
  },
  {
   "cell_type": "markdown",
   "metadata": {},
   "source": [
    "## Conferir Notas\n",
    "\n",
    "Confira se as notas na atividade são as esperadas!\n",
    "\n",
    "Primeiro na atividade atual!"
   ]
  },
  {
   "cell_type": "code",
   "execution_count": 77,
   "metadata": {},
   "outputs": [
    {
     "data": {
      "text/markdown": [
       "|    | Tarefa       |   Nota | Conta como ATV?   |\n",
       "|---:|:-------------|-------:|:------------------|\n",
       "|  0 | group_having |     10 | Sim               |"
      ],
      "text/plain": [
       "<IPython.core.display.Markdown object>"
      ]
     },
     "metadata": {},
     "output_type": "display_data"
    }
   ],
   "source": [
    "ia.grades(by=\"task\", task=\"group_having\")"
   ]
  },
  {
   "cell_type": "code",
   "execution_count": 78,
   "metadata": {},
   "outputs": [
    {
     "data": {
      "text/markdown": [
       "|    | Atividade    | Exercício   |   Peso |   Nota |   Nota Sem Atraso |   Nota Com Atraso |\n",
       "|---:|:-------------|:------------|-------:|-------:|------------------:|------------------:|\n",
       "|  0 | group_having | ex01        |      1 |     10 |                10 |                 0 |\n",
       "|  1 | group_having | ex02        |      4 |     10 |                10 |                 0 |\n",
       "|  2 | group_having | ex03        |      4 |     10 |                10 |                 0 |\n",
       "|  3 | group_having | ex04        |      4 |     10 |                10 |                 0 |\n",
       "|  4 | group_having | ex05        |      4 |     10 |                10 |                 0 |\n",
       "|  5 | group_having | ex06        |      8 |     10 |                10 |                 0 |\n",
       "|  6 | group_having | ex07        |      6 |     10 |                10 |                 0 |\n",
       "|  7 | group_having | ex08        |      6 |     10 |                10 |                 0 |\n",
       "|  8 | group_having | ex09        |     12 |     10 |                10 |                 0 |\n",
       "|  9 | group_having | ex10        |     10 |     10 |                10 |                 0 |\n",
       "| 10 | group_having | ex11        |     10 |     10 |                10 |                 0 |\n",
       "| 11 | group_having | ex12        |      6 |     10 |                10 |                 0 |\n",
       "| 12 | group_having | ex13        |     12 |     10 |                10 |                 0 |"
      ],
      "text/plain": [
       "<IPython.core.display.Markdown object>"
      ]
     },
     "metadata": {},
     "output_type": "display_data"
    }
   ],
   "source": [
    "ia.grades(task=\"group_having\")"
   ]
  },
  {
   "cell_type": "code",
   "execution_count": 79,
   "metadata": {},
   "outputs": [
    {
     "data": {
      "text/markdown": [
       "|    | Tarefa       |   Nota | Conta como ATV?   |\n",
       "|---:|:-------------|-------:|:------------------|\n",
       "|  0 | newborn      |     10 | Não               |\n",
       "|  1 | select01     |     10 | Sim               |\n",
       "|  2 | ddl          |     10 | Sim               |\n",
       "|  3 | dml          |     10 | Sim               |\n",
       "|  4 | agg_join     |     10 | Sim               |\n",
       "|  5 | group_having |     10 | Sim               |\n",
       "|  6 | views        |      0 | Sim               |"
      ],
      "text/plain": [
       "<IPython.core.display.Markdown object>"
      ]
     },
     "metadata": {},
     "output_type": "display_data"
    }
   ],
   "source": [
    "ia.grades(by=\"task\")"
   ]
  },
  {
   "cell_type": "code",
   "execution_count": 80,
   "metadata": {},
   "outputs": [
    {
     "data": {
      "text/markdown": [
       "|    |   Média de ATV |\n",
       "|---:|---------------:|\n",
       "|  0 |             10 |"
      ],
      "text/plain": [
       "<IPython.core.display.Markdown object>"
      ]
     },
     "metadata": {},
     "output_type": "display_data"
    }
   ],
   "source": [
    "# Média de ATV, dividindo por n-2\n",
    "ia.average(excluded_count=2)"
   ]
  }
 ],
 "metadata": {
  "kernelspec": {
   "display_name": "megadados",
   "language": "python",
   "name": "python3"
  },
  "language_info": {
   "codemirror_mode": {
    "name": "ipython",
    "version": 3
   },
   "file_extension": ".py",
   "mimetype": "text/x-python",
   "name": "python",
   "nbconvert_exporter": "python",
   "pygments_lexer": "ipython3",
   "version": "3.10.18"
  }
 },
 "nbformat": 4,
 "nbformat_minor": 4
}
